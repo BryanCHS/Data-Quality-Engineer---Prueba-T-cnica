{
  "nbformat": 4,
  "nbformat_minor": 0,
  "metadata": {
    "colab": {
      "provenance": []
    },
    "kernelspec": {
      "name": "python3",
      "display_name": "Python 3"
    },
    "language_info": {
      "name": "python"
    }
  },
  "cells": [
    {
      "cell_type": "markdown",
      "source": [
        "# Bryan Camilo Hurtado Suarez - Cel: 3228412057"
      ],
      "metadata": {
        "id": "jUvCeAyV8MMd"
      }
    },
    {
      "cell_type": "markdown",
      "source": [
        "#Data Quality Engineer - Prueba Técnica - Primera parte"
      ],
      "metadata": {
        "id": "xZMY9iq8-F3Q"
      }
    },
    {
      "cell_type": "markdown",
      "source": [
        "En esta primera parte, se cargará el archivo, con formato Json, que contiene la información de los álbumes y canciones de la artista Taylor Swift, información obtenida de la aplicación Spotify."
      ],
      "metadata": {
        "id": "0oUECNf9-tS6"
      }
    },
    {
      "cell_type": "markdown",
      "source": [
        "En primer lugar, se cargarn las librerias a usar:"
      ],
      "metadata": {
        "id": "4Na4AlDD_bit"
      }
    },
    {
      "cell_type": "code",
      "execution_count": null,
      "metadata": {
        "id": "6-VmVRRhW18M"
      },
      "outputs": [],
      "source": [
        "import pandas as pd\n",
        "import json"
      ]
    },
    {
      "cell_type": "markdown",
      "source": [
        "Luego, se abre el archivo que contiene la información y se carga a una variable llamada 'data', esto haciendo uso de la librería json:"
      ],
      "metadata": {
        "id": "eEIaFsGL_ftQ"
      }
    },
    {
      "cell_type": "code",
      "source": [
        "with open(\"/content/taylor_swift_spotify.json\", \"r\") as file:\n",
        "    data = json.load(file)"
      ],
      "metadata": {
        "id": "ADxfbcrpa0-T"
      },
      "execution_count": null,
      "outputs": []
    },
    {
      "cell_type": "markdown",
      "source": [
        "Seguidamente, dato que solo es un artista, se crean tres variables que guarden su información, para posteriormente agragarla en le dataset:"
      ],
      "metadata": {
        "id": "faHNdyqp_0T8"
      }
    },
    {
      "cell_type": "code",
      "source": [
        "artist_id = data['artist_id']\n",
        "artist_name = data['artist_name']\n",
        "artist_popularity = data['artist_popularity']"
      ],
      "metadata": {
        "id": "F5fPJR198RwC"
      },
      "execution_count": null,
      "outputs": []
    },
    {
      "cell_type": "markdown",
      "source": [
        "Luego, se crea una lista en la que se almacenara la información de cada álbum"
      ],
      "metadata": {
        "id": "bgVUS5m1BXEe"
      }
    },
    {
      "cell_type": "code",
      "source": [
        "data_frames = []"
      ],
      "metadata": {
        "id": "gZ_IqgPlBVBx"
      },
      "execution_count": null,
      "outputs": []
    },
    {
      "cell_type": "markdown",
      "source": [
        "Se crea un ciclo que recorrerá cada álbum y almacenará toda la información los tracks correspondientes:"
      ],
      "metadata": {
        "id": "tHFdsABDBh03"
      }
    },
    {
      "cell_type": "code",
      "source": [
        "for album in data['albums']:\n",
        "    # se crea una Dataframe para el álbum (sera de una fila)\n",
        "    album_data = pd.json_normalize(album, sep='_')\n",
        "\n",
        "    # se crea un Dataframe con los datos de cada canción, del álbum en cuestión\n",
        "    tracks_data = pd.json_normalize(album['tracks'], sep='.')\n",
        "\n",
        "    # Se copia la fila del álbum, según el número de canciones, para luego concatenarlo\n",
        "    album_data_copy = album_data.reindex(album_data.index.repeat(tracks_data.shape[0])).reset_index(drop=True)\n",
        "\n",
        "    # se concatena la información del álbum y de los tracks\n",
        "    final_data = pd.concat([album_data_copy, tracks_data], axis=1)\n",
        "\n",
        "    # Se agregan los datos del artista\n",
        "    final_data['artist_id'] = artist_id\n",
        "    final_data['artist_name'] = artist_name\n",
        "    final_data['artist_popularity'] = artist_popularity\n",
        "\n",
        "    # Se elimina la columna tracks, ya que esta información ha sido agregada de una forma ordenada\n",
        "    final_data = final_data.drop(['tracks', ], axis=1)\n",
        "\n",
        "    # se guarda el dataframe\n",
        "    data_frames.append(final_data)"
      ],
      "metadata": {
        "id": "l6lRVZRXukSh"
      },
      "execution_count": null,
      "outputs": []
    },
    {
      "cell_type": "markdown",
      "source": [
        "Ahora, se concatenan los dataframes, con el fin de tener la información de todos los álbumes en uno solo:\n"
      ],
      "metadata": {
        "id": "_BlzRM_OMKqC"
      }
    },
    {
      "cell_type": "code",
      "source": [
        "df = pd.concat(data_frames, ignore_index=True)"
      ],
      "metadata": {
        "id": "gdIbf18a89oN"
      },
      "execution_count": null,
      "outputs": []
    },
    {
      "cell_type": "markdown",
      "source": [
        "Se ajusta al orden descrito por la prueba:"
      ],
      "metadata": {
        "id": "T_4cZFrkGCSr"
      }
    },
    {
      "cell_type": "code",
      "source": [
        "order = [\n",
        "    'disc_number', 'duration_ms', 'explicit', 'track_number', 'track_popularity', 'track_id', 'track_name',\n",
        "    'audio_features.danceability', 'audio_features.energy', 'audio_features.key', 'audio_features.loudness', 'audio_features.mode', 'audio_features.speechiness', 'audio_features.acousticness', 'audio_features.instrumentalness',\n",
        "    'audio_features.liveness', 'audio_features.valence', 'audio_features.tempo', 'audio_features.id', 'audio_features.time_signature',\n",
        "    'artist_id', 'artist_name', 'artist_popularity', 'album_id', 'album_name', 'album_release_date', 'album_total_tracks'\n",
        "]"
      ],
      "metadata": {
        "id": "uvh--VMy9B5b"
      },
      "execution_count": null,
      "outputs": []
    },
    {
      "cell_type": "code",
      "source": [
        "df = df[order]"
      ],
      "metadata": {
        "id": "AyJtQI0B9FMF"
      },
      "execution_count": null,
      "outputs": []
    },
    {
      "cell_type": "markdown",
      "source": [
        "Un primer vistazo al dataframe:"
      ],
      "metadata": {
        "id": "p5VF1Px9MdAx"
      }
    },
    {
      "cell_type": "code",
      "source": [
        "df.head(3)"
      ],
      "metadata": {
        "colab": {
          "base_uri": "https://localhost:8080/",
          "height": 349
        },
        "id": "0KZJ5XoDur2W",
        "outputId": "e3b7d6ac-411b-452d-9318-10777f759a55"
      },
      "execution_count": null,
      "outputs": [
        {
          "output_type": "execute_result",
          "data": {
            "text/plain": [
              "   disc_number  duration_ms explicit  track_number  track_popularity  \\\n",
              "0            1       212600    False             1                77   \n",
              "1            1       231833    False             2                78   \n",
              "2            1       231000    False             3                79   \n",
              "\n",
              "                 track_id                              track_name  \\\n",
              "0  4WUepByoeqcedHoYhSNHRt  Welcome To New York (Taylor's Version)   \n",
              "1  0108kcWLnn2HlH2kedi1gn          Blank Space (Taylor's Version)   \n",
              "2  3Vpk1hfMAQme8VJ0SNRSkd                Style (Taylor's Version)   \n",
              "\n",
              "  audio_features.danceability  audio_features.energy  audio_features.key  ...  \\\n",
              "0                       0.757                  0.610                 7.0  ...   \n",
              "1                       0.733                  0.733                 0.0  ...   \n",
              "2                       0.511                  0.822                11.0  ...   \n",
              "\n",
              "   audio_features.tempo       audio_features.id  \\\n",
              "0               116.998  4WUepByoeqcedHoYhSNHRt   \n",
              "1                96.057  0108kcWLnn2HlH2kedi1gn   \n",
              "2                94.868  3Vpk1hfMAQme8VJ0SNRSkd   \n",
              "\n",
              "   audio_features.time_signature           artist_id   artist_name  \\\n",
              "0                            4.0  06HL4z0CvFAxyc27GX  Taylor Swift   \n",
              "1                            4.0  06HL4z0CvFAxyc27GX  Taylor Swift   \n",
              "2                            4.0  06HL4z0CvFAxyc27GX  Taylor Swift   \n",
              "\n",
              "   artist_popularity                album_id  \\\n",
              "0                120  1o59UpKw81iHR0HPiSkJR0   \n",
              "1                120  1o59UpKw81iHR0HPiSkJR0   \n",
              "2                120  1o59UpKw81iHR0HPiSkJR0   \n",
              "\n",
              "                         album_name album_release_date  album_total_tracks  \n",
              "0  1989 (Taylor's Version) [Deluxe]         2023-10-27                  22  \n",
              "1  1989 (Taylor's Version) [Deluxe]         2023-10-27                  22  \n",
              "2  1989 (Taylor's Version) [Deluxe]         2023-10-27                  22  \n",
              "\n",
              "[3 rows x 27 columns]"
            ],
            "text/html": [
              "\n",
              "  <div id=\"df-cebc39e4-c6fb-4dc6-9df6-cf45256f0ca8\" class=\"colab-df-container\">\n",
              "    <div>\n",
              "<style scoped>\n",
              "    .dataframe tbody tr th:only-of-type {\n",
              "        vertical-align: middle;\n",
              "    }\n",
              "\n",
              "    .dataframe tbody tr th {\n",
              "        vertical-align: top;\n",
              "    }\n",
              "\n",
              "    .dataframe thead th {\n",
              "        text-align: right;\n",
              "    }\n",
              "</style>\n",
              "<table border=\"1\" class=\"dataframe\">\n",
              "  <thead>\n",
              "    <tr style=\"text-align: right;\">\n",
              "      <th></th>\n",
              "      <th>disc_number</th>\n",
              "      <th>duration_ms</th>\n",
              "      <th>explicit</th>\n",
              "      <th>track_number</th>\n",
              "      <th>track_popularity</th>\n",
              "      <th>track_id</th>\n",
              "      <th>track_name</th>\n",
              "      <th>audio_features.danceability</th>\n",
              "      <th>audio_features.energy</th>\n",
              "      <th>audio_features.key</th>\n",
              "      <th>...</th>\n",
              "      <th>audio_features.tempo</th>\n",
              "      <th>audio_features.id</th>\n",
              "      <th>audio_features.time_signature</th>\n",
              "      <th>artist_id</th>\n",
              "      <th>artist_name</th>\n",
              "      <th>artist_popularity</th>\n",
              "      <th>album_id</th>\n",
              "      <th>album_name</th>\n",
              "      <th>album_release_date</th>\n",
              "      <th>album_total_tracks</th>\n",
              "    </tr>\n",
              "  </thead>\n",
              "  <tbody>\n",
              "    <tr>\n",
              "      <th>0</th>\n",
              "      <td>1</td>\n",
              "      <td>212600</td>\n",
              "      <td>False</td>\n",
              "      <td>1</td>\n",
              "      <td>77</td>\n",
              "      <td>4WUepByoeqcedHoYhSNHRt</td>\n",
              "      <td>Welcome To New York (Taylor's Version)</td>\n",
              "      <td>0.757</td>\n",
              "      <td>0.610</td>\n",
              "      <td>7.0</td>\n",
              "      <td>...</td>\n",
              "      <td>116.998</td>\n",
              "      <td>4WUepByoeqcedHoYhSNHRt</td>\n",
              "      <td>4.0</td>\n",
              "      <td>06HL4z0CvFAxyc27GX</td>\n",
              "      <td>Taylor Swift</td>\n",
              "      <td>120</td>\n",
              "      <td>1o59UpKw81iHR0HPiSkJR0</td>\n",
              "      <td>1989 (Taylor's Version) [Deluxe]</td>\n",
              "      <td>2023-10-27</td>\n",
              "      <td>22</td>\n",
              "    </tr>\n",
              "    <tr>\n",
              "      <th>1</th>\n",
              "      <td>1</td>\n",
              "      <td>231833</td>\n",
              "      <td>False</td>\n",
              "      <td>2</td>\n",
              "      <td>78</td>\n",
              "      <td>0108kcWLnn2HlH2kedi1gn</td>\n",
              "      <td>Blank Space (Taylor's Version)</td>\n",
              "      <td>0.733</td>\n",
              "      <td>0.733</td>\n",
              "      <td>0.0</td>\n",
              "      <td>...</td>\n",
              "      <td>96.057</td>\n",
              "      <td>0108kcWLnn2HlH2kedi1gn</td>\n",
              "      <td>4.0</td>\n",
              "      <td>06HL4z0CvFAxyc27GX</td>\n",
              "      <td>Taylor Swift</td>\n",
              "      <td>120</td>\n",
              "      <td>1o59UpKw81iHR0HPiSkJR0</td>\n",
              "      <td>1989 (Taylor's Version) [Deluxe]</td>\n",
              "      <td>2023-10-27</td>\n",
              "      <td>22</td>\n",
              "    </tr>\n",
              "    <tr>\n",
              "      <th>2</th>\n",
              "      <td>1</td>\n",
              "      <td>231000</td>\n",
              "      <td>False</td>\n",
              "      <td>3</td>\n",
              "      <td>79</td>\n",
              "      <td>3Vpk1hfMAQme8VJ0SNRSkd</td>\n",
              "      <td>Style (Taylor's Version)</td>\n",
              "      <td>0.511</td>\n",
              "      <td>0.822</td>\n",
              "      <td>11.0</td>\n",
              "      <td>...</td>\n",
              "      <td>94.868</td>\n",
              "      <td>3Vpk1hfMAQme8VJ0SNRSkd</td>\n",
              "      <td>4.0</td>\n",
              "      <td>06HL4z0CvFAxyc27GX</td>\n",
              "      <td>Taylor Swift</td>\n",
              "      <td>120</td>\n",
              "      <td>1o59UpKw81iHR0HPiSkJR0</td>\n",
              "      <td>1989 (Taylor's Version) [Deluxe]</td>\n",
              "      <td>2023-10-27</td>\n",
              "      <td>22</td>\n",
              "    </tr>\n",
              "  </tbody>\n",
              "</table>\n",
              "<p>3 rows × 27 columns</p>\n",
              "</div>\n",
              "    <div class=\"colab-df-buttons\">\n",
              "\n",
              "  <div class=\"colab-df-container\">\n",
              "    <button class=\"colab-df-convert\" onclick=\"convertToInteractive('df-cebc39e4-c6fb-4dc6-9df6-cf45256f0ca8')\"\n",
              "            title=\"Convert this dataframe to an interactive table.\"\n",
              "            style=\"display:none;\">\n",
              "\n",
              "  <svg xmlns=\"http://www.w3.org/2000/svg\" height=\"24px\" viewBox=\"0 -960 960 960\">\n",
              "    <path d=\"M120-120v-720h720v720H120Zm60-500h600v-160H180v160Zm220 220h160v-160H400v160Zm0 220h160v-160H400v160ZM180-400h160v-160H180v160Zm440 0h160v-160H620v160ZM180-180h160v-160H180v160Zm440 0h160v-160H620v160Z\"/>\n",
              "  </svg>\n",
              "    </button>\n",
              "\n",
              "  <style>\n",
              "    .colab-df-container {\n",
              "      display:flex;\n",
              "      gap: 12px;\n",
              "    }\n",
              "\n",
              "    .colab-df-convert {\n",
              "      background-color: #E8F0FE;\n",
              "      border: none;\n",
              "      border-radius: 50%;\n",
              "      cursor: pointer;\n",
              "      display: none;\n",
              "      fill: #1967D2;\n",
              "      height: 32px;\n",
              "      padding: 0 0 0 0;\n",
              "      width: 32px;\n",
              "    }\n",
              "\n",
              "    .colab-df-convert:hover {\n",
              "      background-color: #E2EBFA;\n",
              "      box-shadow: 0px 1px 2px rgba(60, 64, 67, 0.3), 0px 1px 3px 1px rgba(60, 64, 67, 0.15);\n",
              "      fill: #174EA6;\n",
              "    }\n",
              "\n",
              "    .colab-df-buttons div {\n",
              "      margin-bottom: 4px;\n",
              "    }\n",
              "\n",
              "    [theme=dark] .colab-df-convert {\n",
              "      background-color: #3B4455;\n",
              "      fill: #D2E3FC;\n",
              "    }\n",
              "\n",
              "    [theme=dark] .colab-df-convert:hover {\n",
              "      background-color: #434B5C;\n",
              "      box-shadow: 0px 1px 3px 1px rgba(0, 0, 0, 0.15);\n",
              "      filter: drop-shadow(0px 1px 2px rgba(0, 0, 0, 0.3));\n",
              "      fill: #FFFFFF;\n",
              "    }\n",
              "  </style>\n",
              "\n",
              "    <script>\n",
              "      const buttonEl =\n",
              "        document.querySelector('#df-cebc39e4-c6fb-4dc6-9df6-cf45256f0ca8 button.colab-df-convert');\n",
              "      buttonEl.style.display =\n",
              "        google.colab.kernel.accessAllowed ? 'block' : 'none';\n",
              "\n",
              "      async function convertToInteractive(key) {\n",
              "        const element = document.querySelector('#df-cebc39e4-c6fb-4dc6-9df6-cf45256f0ca8');\n",
              "        const dataTable =\n",
              "          await google.colab.kernel.invokeFunction('convertToInteractive',\n",
              "                                                    [key], {});\n",
              "        if (!dataTable) return;\n",
              "\n",
              "        const docLinkHtml = 'Like what you see? Visit the ' +\n",
              "          '<a target=\"_blank\" href=https://colab.research.google.com/notebooks/data_table.ipynb>data table notebook</a>'\n",
              "          + ' to learn more about interactive tables.';\n",
              "        element.innerHTML = '';\n",
              "        dataTable['output_type'] = 'display_data';\n",
              "        await google.colab.output.renderOutput(dataTable, element);\n",
              "        const docLink = document.createElement('div');\n",
              "        docLink.innerHTML = docLinkHtml;\n",
              "        element.appendChild(docLink);\n",
              "      }\n",
              "    </script>\n",
              "  </div>\n",
              "\n",
              "\n",
              "<div id=\"df-57f0d552-e32a-421c-aac1-398e3dbc712a\">\n",
              "  <button class=\"colab-df-quickchart\" onclick=\"quickchart('df-57f0d552-e32a-421c-aac1-398e3dbc712a')\"\n",
              "            title=\"Suggest charts\"\n",
              "            style=\"display:none;\">\n",
              "\n",
              "<svg xmlns=\"http://www.w3.org/2000/svg\" height=\"24px\"viewBox=\"0 0 24 24\"\n",
              "     width=\"24px\">\n",
              "    <g>\n",
              "        <path d=\"M19 3H5c-1.1 0-2 .9-2 2v14c0 1.1.9 2 2 2h14c1.1 0 2-.9 2-2V5c0-1.1-.9-2-2-2zM9 17H7v-7h2v7zm4 0h-2V7h2v10zm4 0h-2v-4h2v4z\"/>\n",
              "    </g>\n",
              "</svg>\n",
              "  </button>\n",
              "\n",
              "<style>\n",
              "  .colab-df-quickchart {\n",
              "      --bg-color: #E8F0FE;\n",
              "      --fill-color: #1967D2;\n",
              "      --hover-bg-color: #E2EBFA;\n",
              "      --hover-fill-color: #174EA6;\n",
              "      --disabled-fill-color: #AAA;\n",
              "      --disabled-bg-color: #DDD;\n",
              "  }\n",
              "\n",
              "  [theme=dark] .colab-df-quickchart {\n",
              "      --bg-color: #3B4455;\n",
              "      --fill-color: #D2E3FC;\n",
              "      --hover-bg-color: #434B5C;\n",
              "      --hover-fill-color: #FFFFFF;\n",
              "      --disabled-bg-color: #3B4455;\n",
              "      --disabled-fill-color: #666;\n",
              "  }\n",
              "\n",
              "  .colab-df-quickchart {\n",
              "    background-color: var(--bg-color);\n",
              "    border: none;\n",
              "    border-radius: 50%;\n",
              "    cursor: pointer;\n",
              "    display: none;\n",
              "    fill: var(--fill-color);\n",
              "    height: 32px;\n",
              "    padding: 0;\n",
              "    width: 32px;\n",
              "  }\n",
              "\n",
              "  .colab-df-quickchart:hover {\n",
              "    background-color: var(--hover-bg-color);\n",
              "    box-shadow: 0 1px 2px rgba(60, 64, 67, 0.3), 0 1px 3px 1px rgba(60, 64, 67, 0.15);\n",
              "    fill: var(--button-hover-fill-color);\n",
              "  }\n",
              "\n",
              "  .colab-df-quickchart-complete:disabled,\n",
              "  .colab-df-quickchart-complete:disabled:hover {\n",
              "    background-color: var(--disabled-bg-color);\n",
              "    fill: var(--disabled-fill-color);\n",
              "    box-shadow: none;\n",
              "  }\n",
              "\n",
              "  .colab-df-spinner {\n",
              "    border: 2px solid var(--fill-color);\n",
              "    border-color: transparent;\n",
              "    border-bottom-color: var(--fill-color);\n",
              "    animation:\n",
              "      spin 1s steps(1) infinite;\n",
              "  }\n",
              "\n",
              "  @keyframes spin {\n",
              "    0% {\n",
              "      border-color: transparent;\n",
              "      border-bottom-color: var(--fill-color);\n",
              "      border-left-color: var(--fill-color);\n",
              "    }\n",
              "    20% {\n",
              "      border-color: transparent;\n",
              "      border-left-color: var(--fill-color);\n",
              "      border-top-color: var(--fill-color);\n",
              "    }\n",
              "    30% {\n",
              "      border-color: transparent;\n",
              "      border-left-color: var(--fill-color);\n",
              "      border-top-color: var(--fill-color);\n",
              "      border-right-color: var(--fill-color);\n",
              "    }\n",
              "    40% {\n",
              "      border-color: transparent;\n",
              "      border-right-color: var(--fill-color);\n",
              "      border-top-color: var(--fill-color);\n",
              "    }\n",
              "    60% {\n",
              "      border-color: transparent;\n",
              "      border-right-color: var(--fill-color);\n",
              "    }\n",
              "    80% {\n",
              "      border-color: transparent;\n",
              "      border-right-color: var(--fill-color);\n",
              "      border-bottom-color: var(--fill-color);\n",
              "    }\n",
              "    90% {\n",
              "      border-color: transparent;\n",
              "      border-bottom-color: var(--fill-color);\n",
              "    }\n",
              "  }\n",
              "</style>\n",
              "\n",
              "  <script>\n",
              "    async function quickchart(key) {\n",
              "      const quickchartButtonEl =\n",
              "        document.querySelector('#' + key + ' button');\n",
              "      quickchartButtonEl.disabled = true;  // To prevent multiple clicks.\n",
              "      quickchartButtonEl.classList.add('colab-df-spinner');\n",
              "      try {\n",
              "        const charts = await google.colab.kernel.invokeFunction(\n",
              "            'suggestCharts', [key], {});\n",
              "      } catch (error) {\n",
              "        console.error('Error during call to suggestCharts:', error);\n",
              "      }\n",
              "      quickchartButtonEl.classList.remove('colab-df-spinner');\n",
              "      quickchartButtonEl.classList.add('colab-df-quickchart-complete');\n",
              "    }\n",
              "    (() => {\n",
              "      let quickchartButtonEl =\n",
              "        document.querySelector('#df-57f0d552-e32a-421c-aac1-398e3dbc712a button');\n",
              "      quickchartButtonEl.style.display =\n",
              "        google.colab.kernel.accessAllowed ? 'block' : 'none';\n",
              "    })();\n",
              "  </script>\n",
              "</div>\n",
              "\n",
              "    </div>\n",
              "  </div>\n"
            ]
          },
          "metadata": {},
          "execution_count": 9
        }
      ]
    },
    {
      "cell_type": "markdown",
      "source": [
        "Se confirma que el número de filas y columnas es adecuado, guiándome por el ejemplo de la prueba:"
      ],
      "metadata": {
        "id": "3Omvjl4ZMhWD"
      }
    },
    {
      "cell_type": "code",
      "source": [
        "df.shape"
      ],
      "metadata": {
        "colab": {
          "base_uri": "https://localhost:8080/"
        },
        "id": "sF9ssrnxC82u",
        "outputId": "01e40b2e-2ef6-4cde-ca35-e433eba7908f"
      },
      "execution_count": null,
      "outputs": [
        {
          "output_type": "execute_result",
          "data": {
            "text/plain": [
              "(539, 27)"
            ]
          },
          "metadata": {},
          "execution_count": 10
        }
      ]
    },
    {
      "cell_type": "markdown",
      "source": [
        "Columnas:"
      ],
      "metadata": {
        "id": "nkXsd9vzMsMV"
      }
    },
    {
      "cell_type": "code",
      "source": [
        "df.columns"
      ],
      "metadata": {
        "colab": {
          "base_uri": "https://localhost:8080/"
        },
        "id": "g8CBHzWADCmh",
        "outputId": "bf12a349-16a0-4c99-9529-dec754a3e94b"
      },
      "execution_count": null,
      "outputs": [
        {
          "output_type": "execute_result",
          "data": {
            "text/plain": [
              "Index(['disc_number', 'duration_ms', 'explicit', 'track_number',\n",
              "       'track_popularity', 'track_id', 'track_name',\n",
              "       'audio_features.danceability', 'audio_features.energy',\n",
              "       'audio_features.key', 'audio_features.loudness', 'audio_features.mode',\n",
              "       'audio_features.speechiness', 'audio_features.acousticness',\n",
              "       'audio_features.instrumentalness', 'audio_features.liveness',\n",
              "       'audio_features.valence', 'audio_features.tempo', 'audio_features.id',\n",
              "       'audio_features.time_signature', 'artist_id', 'artist_name',\n",
              "       'artist_popularity', 'album_id', 'album_name', 'album_release_date',\n",
              "       'album_total_tracks'],\n",
              "      dtype='object')"
            ]
          },
          "metadata": {},
          "execution_count": 11
        }
      ]
    },
    {
      "cell_type": "markdown",
      "source": [
        "Finalmente, se exporta con formato csv:"
      ],
      "metadata": {
        "id": "O-6nnysJMvBT"
      }
    },
    {
      "cell_type": "code",
      "source": [
        "df.to_csv('dataset.csv',index=False)"
      ],
      "metadata": {
        "id": "3yU3CjrLLxal"
      },
      "execution_count": null,
      "outputs": []
    },
    {
      "cell_type": "markdown",
      "source": [
        "Muchas gracias por la atencion!"
      ],
      "metadata": {
        "id": "JbUICQA7GJI8"
      }
    }
  ]
}